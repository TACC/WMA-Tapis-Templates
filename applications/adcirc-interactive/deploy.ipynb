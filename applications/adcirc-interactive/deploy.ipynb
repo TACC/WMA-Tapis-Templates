{
 "cells": [
  {
   "cell_type": "markdown",
   "metadata": {},
   "source": [
    "# Deploying Application\n",
    "\n",
    "To deploy the ADCIRC interactive application the following must be done:\n",
    "\n",
    "1. Zip the application contents into a folder including\n",
    "    - tapisjob_app.sh - Main entrypoint script that launches the container.\n",
    "2. Uplaod this zipped folder to DesignSafe using tapis\n",
    "    - If testing, upload to a test directory in my own user space: `tapis://designsafe.storage.default/clos21/tapisv3/apps/adcirc-interactive-test.zip`\n",
    "    - If production, upload to a directory other users can access: `tapis://cloud.data/corral/tacc/aci/CEP/applications/v3/adcirc-interactive/v1/adcirc-interactive.zip`\n",
    "3. Deploy the application using Tapis \n",
    "\n",
    "\n"
   ]
  },
  {
   "cell_type": "markdown",
   "metadata": {},
   "source": [
    "## Log into DesignSafe using Tapis"
   ]
  },
  {
   "cell_type": "code",
   "execution_count": 1,
   "metadata": {},
   "outputs": [],
   "source": [
    "import os\n",
    "from dotenv import load_dotenv\n",
    "from tapipy.tapis import Tapis\n",
    "\n",
    "\n",
    "# Load the .env file\n",
    "load_dotenv()\n",
    "\n",
    "# Now you can access the variables using os.getenv()\n",
    "tacc_psw = os.getenv('TACC_PSW')\n",
    "\n",
    "t = Tapis(base_url='https://designsafe.tapis.io', username='clos21', password=tacc_psw)\n",
    "t.get_tokens()"
   ]
  },
  {
   "cell_type": "markdown",
   "metadata": {},
   "source": [
    "## Stage application data localy\n",
    "\n",
    "Note that it is best practice to make a test version of the application deployed to a path in your MyData, and make sure that works before deploying a production app that is at a location everyone can access."
   ]
  },
  {
   "cell_type": "code",
   "execution_count": 50,
   "metadata": {},
   "outputs": [],
   "source": [
    "deploy_type = 'test'\n",
    "# deploy_type = 'prod'\n",
    "\n",
    "if deploy_type == 'test':\n",
    "    app_id = 'adcirc-interactive-test'\n",
    "    deploy_path = '/clos21/tapisv3/apps/adcirc-interactive-test.zip'\n",
    "    deploy_uri = f'tapis://designsafe.storage.default{deploy_path}'\n",
    "    deploy_system = 'designsafe.storage.default'\n",
    "    label = '(TEST) Interactive VM for ADCIRC - v56'\n",
    "else:\n",
    "    app_id = 'adcirc-interactive'\n",
    "    deploy_path = '/corral/tacc/aci/CEP/applications/v3/adcirc-interactive/v1/adcirc-interactive.zip'\n",
    "    deploy_uri = f'tapis://cloud.data/{deploy_path}'\n",
    "    deploy_system = 'cloud.data'\n",
    "    label = 'Interactive VM for ADCIRC - v56'"
   ]
  },
  {
   "cell_type": "code",
   "execution_count": 41,
   "metadata": {},
   "outputs": [
    {
     "name": "stdout",
     "output_type": "stream",
     "text": [
      "  adding: tapisjob_app.sh (deflated 66%)\n"
     ]
    },
    {
     "name": "stderr",
     "output_type": "stream",
     "text": [
      "rm: adcirc-interactive.zip: No such file or directory\n"
     ]
    },
    {
     "data": {
      "text/plain": [
       "0"
      ]
     },
     "execution_count": 41,
     "metadata": {},
     "output_type": "execute_result"
    }
   ],
   "source": [
    "# Copy tapisjob_app.sh into a folder with name equal to app_id, and zip this folder in current directory:\n",
    "os.system(f'rm -rf {app_id}; rm {app_id}.zip')\n",
    "os.system(f'mkdir -p {app_id}; cp tapisjob_app.sh {app_id}/; chmod +x {app_id}/tapisjob_app.sh')\n",
    "os.system(f'cd {app_id} && zip -r ../{app_id}.zip . && cd ..')"
   ]
  },
  {
   "cell_type": "markdown",
   "metadata": {},
   "source": [
    "## Send Application Data to DesignSafe "
   ]
  },
  {
   "cell_type": "code",
   "execution_count": 45,
   "metadata": {},
   "outputs": [
    {
     "ename": "ForbiddenError",
     "evalue": "message: FILES_CLIENT_SSH_PERM_DENIED OboTenant: designsafe OboUser: clos21 Operation: mkdir System: cloud.data EffectiveUser: clos21 Host: cloud.data.tacc.utexas.edu Path: /corral-tacc Error: SFTP error (SSH_FX_PERMISSION_DENIED): Permission denied",
     "output_type": "error",
     "traceback": [
      "\u001b[0;31m---------------------------------------------------------------------------\u001b[0m",
      "\u001b[0;31mForbiddenError\u001b[0m                            Traceback (most recent call last)",
      "Cell \u001b[0;32mIn[45], line 3\u001b[0m\n\u001b[1;32m      1\u001b[0m \u001b[38;5;66;03m# Upload zip file using Tapis\u001b[39;00m\n\u001b[1;32m      2\u001b[0m \u001b[38;5;66;03m# t.upload(source_file_path=f\"{app_id}.zip\", system_id=\"designsafe.storage.default\", dest_file_path=deploy_path)\u001b[39;00m\n\u001b[0;32m----> 3\u001b[0m \u001b[43mt\u001b[49m\u001b[38;5;241;43m.\u001b[39;49m\u001b[43mupload\u001b[49m\u001b[43m(\u001b[49m\u001b[43msource_file_path\u001b[49m\u001b[38;5;241;43m=\u001b[39;49m\u001b[38;5;124;43mf\u001b[39;49m\u001b[38;5;124;43m\"\u001b[39;49m\u001b[38;5;132;43;01m{\u001b[39;49;00m\u001b[43mapp_id\u001b[49m\u001b[38;5;132;43;01m}\u001b[39;49;00m\u001b[38;5;124;43m.zip\u001b[39;49m\u001b[38;5;124;43m\"\u001b[39;49m\u001b[43m,\u001b[49m\u001b[43m \u001b[49m\u001b[43msystem_id\u001b[49m\u001b[38;5;241;43m=\u001b[39;49m\u001b[38;5;124;43m\"\u001b[39;49m\u001b[38;5;124;43mcloud.data\u001b[39;49m\u001b[38;5;124;43m\"\u001b[39;49m\u001b[43m,\u001b[49m\u001b[43m \u001b[49m\u001b[43mdest_file_path\u001b[49m\u001b[38;5;241;43m=\u001b[39;49m\u001b[43mdeploy_path\u001b[49m\u001b[43m)\u001b[49m\n",
      "File \u001b[0;32m~/conda/envs/ds-userguide/lib/python3.11/site-packages/tapipy/tapis.py:843\u001b[0m, in \u001b[0;36mTapis.upload\u001b[0;34m(self, source_file_path, system_id, dest_file_path, **kwargs)\u001b[0m\n\u001b[1;32m    841\u001b[0m     \u001b[38;5;28;01mraise\u001b[39;00m errors\u001b[38;5;241m.\u001b[39mUnauthorizedError(msg\u001b[38;5;241m=\u001b[39merror_msg, version\u001b[38;5;241m=\u001b[39mversion, request\u001b[38;5;241m=\u001b[39mr, response\u001b[38;5;241m=\u001b[39mresp)\n\u001b[1;32m    842\u001b[0m \u001b[38;5;28;01mif\u001b[39;00m resp\u001b[38;5;241m.\u001b[39mstatus_code \u001b[38;5;241m==\u001b[39m \u001b[38;5;241m403\u001b[39m:\n\u001b[0;32m--> 843\u001b[0m     \u001b[38;5;28;01mraise\u001b[39;00m errors\u001b[38;5;241m.\u001b[39mForbiddenError(msg\u001b[38;5;241m=\u001b[39merror_msg, version\u001b[38;5;241m=\u001b[39mversion, request\u001b[38;5;241m=\u001b[39mr, response\u001b[38;5;241m=\u001b[39mresp)\n\u001b[1;32m    844\u001b[0m \u001b[38;5;28;01mif\u001b[39;00m resp\u001b[38;5;241m.\u001b[39mstatus_code \u001b[38;5;241m==\u001b[39m \u001b[38;5;241m404\u001b[39m:\n\u001b[1;32m    845\u001b[0m     \u001b[38;5;28;01mraise\u001b[39;00m errors\u001b[38;5;241m.\u001b[39mNotFoundError(msg\u001b[38;5;241m=\u001b[39merror_msg, version\u001b[38;5;241m=\u001b[39mversion, request\u001b[38;5;241m=\u001b[39mr, response\u001b[38;5;241m=\u001b[39mresp)\n",
      "\u001b[0;31mForbiddenError\u001b[0m: message: FILES_CLIENT_SSH_PERM_DENIED OboTenant: designsafe OboUser: clos21 Operation: mkdir System: cloud.data EffectiveUser: clos21 Host: cloud.data.tacc.utexas.edu Path: /corral-tacc Error: SFTP error (SSH_FX_PERMISSION_DENIED): Permission denied"
     ]
    }
   ],
   "source": [
    "# Upload zip file using Tapis\n",
    "t.upload(source_file_path=f\"{app_id}.zip\", system_id=deploy_system, dest_file_path=deploy_path)"
   ]
  },
  {
   "cell_type": "markdown",
   "metadata": {},
   "source": [
    "## Build Application Configuration"
   ]
  },
  {
   "cell_type": "code",
   "execution_count": 51,
   "metadata": {},
   "outputs": [
    {
     "data": {
      "text/plain": [
       "{'id': 'adcirc-interactive',\n",
       " 'version': '56.00',\n",
       " 'description': 'ADCIRC Interactive provides users with a JupyterLab environment running on a small VM with pre-installed adcirc/padcirc for testing before submitting HPC jobs.',\n",
       " 'owner': '${apiUserId}',\n",
       " 'enabled': True,\n",
       " 'runtime': 'ZIP',\n",
       " 'runtimeVersion': None,\n",
       " 'runtimeOptions': None,\n",
       " 'containerImage': 'tapis://cloud.data//corral/tacc/aci/CEP/applications/v3/adcirc-interactive/v1/adcirc-interactive.zip',\n",
       " 'jobType': 'FORK',\n",
       " 'maxJobs': -1,\n",
       " 'maxJobsPerUser': -1,\n",
       " 'strictFileInputs': True,\n",
       " 'jobAttributes': {'execSystemConstraints': None,\n",
       "  'execSystemId': 'wma-exec-01',\n",
       "  'execSystemExecDir': '${JobWorkingDir}',\n",
       "  'execSystemInputDir': '${JobWorkingDir}',\n",
       "  'execSystemOutputDir': '${JobWorkingDir}',\n",
       "  'execSystemLogicalQueue': None,\n",
       "  'archiveSystemId': 'cloud.data',\n",
       "  'archiveSystemDir': 'HOST_EVAL($HOME)/tapis-jobs-archive/${JobCreateDate}/${JobName}-${JobUUID}',\n",
       "  'archiveOnAppError': True,\n",
       "  'isMpi': False,\n",
       "  'mpiCmd': None,\n",
       "  'cmdPrefix': None,\n",
       "  'parameterSet': {'appArgs': [],\n",
       "   'containerArgs': [],\n",
       "   'schedulerOptions': [],\n",
       "   'envVariables': [{'key': '_UserProjects',\n",
       "     'value': '',\n",
       "     'description': 'User Project UUIDs and Project IDs',\n",
       "     'inputMode': 'INCLUDE_ON_DEMAND',\n",
       "     'notes': {'isHidden': True}},\n",
       "    {'key': '_DOCKER_IMAGE',\n",
       "     'value': 'docker://clos21/ds-adcirc-interactive:latest',\n",
       "     'description': 'Docker image to use for the job',\n",
       "     'inputMode': 'FIXED',\n",
       "     'notes': {'isHidden': True}}],\n",
       "   'archiveFilter': {'includes': [],\n",
       "    'excludes': ['adcirc_interactive.zip', 'tapisjob.env'],\n",
       "    'includeLaunchFiles': True}},\n",
       "  'fileInputs': [],\n",
       "  'fileInputArrays': [],\n",
       "  'maxMinutes': 2880,\n",
       "  'subscriptions': [],\n",
       "  'tags': []},\n",
       " 'tags': ['portalName: DesignSafe', 'portalName: CEP'],\n",
       " 'notes': {'label': 'Interactive VM for ADCIRC - v56',\n",
       "  'helpUrl': 'https://www.designsafe-ci.org/user-guide/tools/simulation/#adcirc-through-the-interactive-vm',\n",
       "  'hideNodeCountAndCoresPerNode': True,\n",
       "  'hideMaxMinutes': True,\n",
       "  'isInteractive': True,\n",
       "  'icon': 'ADCIRC',\n",
       "  'category': 'Simulation'}}"
      ]
     },
     "execution_count": 51,
     "metadata": {},
     "output_type": "execute_result"
    }
   ],
   "source": [
    "app_config = {\n",
    "    \"id\": app_id,\n",
    "    \"version\": \"56.00\",\n",
    "    \"description\": \"ADCIRC Interactive provides users with a JupyterLab environment running on a small VM with pre-installed adcirc/padcirc for testing before submitting HPC jobs.\",\n",
    "    \"owner\": \"${apiUserId}\",\n",
    "    \"enabled\": True,\n",
    "    \"runtime\": \"ZIP\",\n",
    "    \"runtimeVersion\": None,\n",
    "    \"runtimeOptions\": None,\n",
    "    \"containerImage\": deploy_uri,\n",
    "    \"jobType\": \"FORK\",\n",
    "    \"maxJobs\": -1,\n",
    "    \"maxJobsPerUser\": -1,\n",
    "    \"strictFileInputs\": True,\n",
    "    \"jobAttributes\": {\n",
    "        \"execSystemConstraints\": None,\n",
    "        \"execSystemId\": \"wma-exec-01\",\n",
    "        \"execSystemExecDir\": \"${JobWorkingDir}\",\n",
    "        \"execSystemInputDir\": \"${JobWorkingDir}\",\n",
    "        \"execSystemOutputDir\": \"${JobWorkingDir}\",\n",
    "        \"execSystemLogicalQueue\": None,\n",
    "        \"archiveSystemId\": \"cloud.data\",\n",
    "        \"archiveSystemDir\": \"HOST_EVAL($HOME)/tapis-jobs-archive/${JobCreateDate}/${JobName}-${JobUUID}\",\n",
    "        \"archiveOnAppError\": True,\n",
    "        \"isMpi\": False,\n",
    "        \"mpiCmd\": None,\n",
    "        \"cmdPrefix\": None,\n",
    "        \"parameterSet\": {\n",
    "            \"appArgs\": [],\n",
    "            \"containerArgs\": [],\n",
    "            \"schedulerOptions\": [],\n",
    "            \"envVariables\": [\n",
    "                {\n",
    "                    \"key\": \"_UserProjects\",\n",
    "                    \"value\": \"\",\n",
    "                    \"description\": \"User Project UUIDs and Project IDs\",\n",
    "                    \"inputMode\": \"INCLUDE_ON_DEMAND\",\n",
    "                    \"notes\": {\n",
    "                        \"isHidden\": True\n",
    "                    }\n",
    "                },\n",
    "                {\n",
    "                    \"key\": \"_DOCKER_IMAGE\",\n",
    "                    \"value\": \"docker://clos21/ds-adcirc-interactive:latest\",\n",
    "                    \"description\": \"Docker image to use for the job\",\n",
    "                    \"inputMode\": \"FIXED\",\n",
    "                    \"notes\": {\n",
    "                        \"isHidden\": True\n",
    "                    }\n",
    "                }\n",
    "            ],\n",
    "            \"archiveFilter\": {\n",
    "                \"includes\": [],\n",
    "                \"excludes\": [\n",
    "                    \"adcirc_interactive.zip\",\n",
    "                    \"tapisjob.env\"\n",
    "                ],\n",
    "                \"includeLaunchFiles\": True\n",
    "            }\n",
    "        },\n",
    "        \"fileInputs\": [],\n",
    "        \"fileInputArrays\": [],\n",
    "        \"maxMinutes\": 2880,\n",
    "        \"subscriptions\": [],\n",
    "        \"tags\": []\n",
    "    },\n",
    "    \"tags\": [\n",
    "        \"portalName: DesignSafe\",\n",
    "        \"portalName: CEP\"\n",
    "    ],\n",
    "    \"notes\": {\n",
    "        \"label\": label,\n",
    "        \"helpUrl\": \"https://www.designsafe-ci.org/user-guide/tools/simulation/#adcirc-through-the-interactive-vm\",\n",
    "        \"hideNodeCountAndCoresPerNode\": True,\n",
    "        \"hideMaxMinutes\": True,\n",
    "        \"isInteractive\": True,\n",
    "        \"icon\": \"ADCIRC\",\n",
    "        \"category\": \"Simulation\"\n",
    "    }\n",
    "}\n",
    "app_config"
   ]
  },
  {
   "cell_type": "code",
   "execution_count": 52,
   "metadata": {},
   "outputs": [],
   "source": [
    "try:\n",
    "    t.apps.getAppLatestVersion(appId=app_config['id'])\n",
    "except Exception:\n",
    "    t.apps.createAppVersion(**app_config)\n",
    "else:\n",
    "    t.apps.putApp(appId=app_config['id'], appVersion='56.00', **app_config)"
   ]
  },
  {
   "cell_type": "markdown",
   "metadata": {},
   "source": [
    "## Verify the deployed application configuration"
   ]
  },
  {
   "cell_type": "code",
   "execution_count": 48,
   "metadata": {},
   "outputs": [
    {
     "data": {
      "text/plain": [
       "\n",
       "containerImage: tapis://cloud.data/corral-tacc/tacc/aci/CEP/applications/v3/adcirc-interactive/v1/adcirc-interactive.zip\n",
       "created: 2024-10-03T15:26:54.307943Z\n",
       "deleted: False\n",
       "description: ADCIRC Interactive provides users with a JupyterLab environment running on a small VM with pre-installed adcirc/padcirc for testing before submitting HPC jobs.\n",
       "enabled: True\n",
       "id: adcirc-interactive\n",
       "isPublic: True\n",
       "jobAttributes: \n",
       "archiveOnAppError: True\n",
       "archiveSystemDir: HOST_EVAL($HOME)/tapis-jobs-archive/${JobCreateDate}/${JobName}-${JobUUID}\n",
       "archiveSystemId: cloud.data\n",
       "cmdPrefix: None\n",
       "coresPerNode: 1\n",
       "description: None\n",
       "dtnSystemInputDir: !tapis_not_set\n",
       "dtnSystemOutputDir: !tapis_not_set\n",
       "dynamicExecSystem: False\n",
       "execSystemConstraints: None\n",
       "execSystemExecDir: ${JobWorkingDir}\n",
       "execSystemId: wma-exec-01\n",
       "execSystemInputDir: ${JobWorkingDir}\n",
       "execSystemLogicalQueue: None\n",
       "execSystemOutputDir: ${JobWorkingDir}\n",
       "fileInputArrays: []\n",
       "fileInputs: []\n",
       "isMpi: False\n",
       "maxMinutes: 2880\n",
       "memoryMB: 100\n",
       "mpiCmd: None\n",
       "nodeCount: 1\n",
       "parameterSet: \n",
       "appArgs: []\n",
       "archiveFilter: \n",
       "excludes: ['adcirc_interactive.zip', 'tapisjob.env']\n",
       "includeLaunchFiles: True\n",
       "includes: []\n",
       "containerArgs: []\n",
       "envVariables: [\n",
       "description: User Project UUIDs and Project IDs\n",
       "inputMode: INCLUDE_ON_DEMAND\n",
       "key: _UserProjects\n",
       "notes: \n",
       "isHidden: True\n",
       "value: , \n",
       "description: Docker image to use for the job\n",
       "inputMode: FIXED\n",
       "key: _DOCKER_IMAGE\n",
       "notes: \n",
       "isHidden: True\n",
       "value: docker://clos21/ds-adcirc-interactive:latest]\n",
       "logConfig: \n",
       "stderrFilename: \n",
       "stdoutFilename: \n",
       "schedulerOptions: []\n",
       "subscriptions: []\n",
       "tags: []\n",
       "jobType: FORK\n",
       "locked: False\n",
       "maxJobs: 2147483647\n",
       "maxJobsPerUser: 2147483647\n",
       "notes: \n",
       "category: Simulation\n",
       "helpUrl: https://www.designsafe-ci.org/user-guide/tools/simulation/#adcirc-through-the-interactive-vm\n",
       "hideMaxMinutes: True\n",
       "hideNodeCountAndCoresPerNode: True\n",
       "icon: ADCIRC\n",
       "isInteractive: True\n",
       "label: Interactive VM for ADCIRC - v56\n",
       "owner: clos21\n",
       "runtime: ZIP\n",
       "runtimeOptions: None\n",
       "runtimeVersion: None\n",
       "sharedAppCtx: clos21\n",
       "sharedWithUsers: []\n",
       "strictFileInputs: True\n",
       "tags: ['portalName: DesignSafe', 'portalName: CEP']\n",
       "tenant: designsafe\n",
       "updated: 2025-02-05T21:07:31.455033Z\n",
       "uuid: 3881163a-00fd-4b1d-8e5d-8d8b61a1653d\n",
       "version: 56.00\n",
       "versionEnabled: True"
      ]
     },
     "execution_count": 48,
     "metadata": {},
     "output_type": "execute_result"
    }
   ],
   "source": [
    "t.apps.getAppLatestVersion(appId=app_config['id'])"
   ]
  },
  {
   "cell_type": "code",
   "execution_count": null,
   "metadata": {},
   "outputs": [],
   "source": []
  }
 ],
 "metadata": {
  "kernelspec": {
   "display_name": "ds-userguide",
   "language": "python",
   "name": "python3"
  },
  "language_info": {
   "codemirror_mode": {
    "name": "ipython",
    "version": 3
   },
   "file_extension": ".py",
   "mimetype": "text/x-python",
   "name": "python",
   "nbconvert_exporter": "python",
   "pygments_lexer": "ipython3",
   "version": "3.11.8"
  }
 },
 "nbformat": 4,
 "nbformat_minor": 2
}
